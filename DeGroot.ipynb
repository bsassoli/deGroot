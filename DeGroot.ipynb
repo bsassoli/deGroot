{
 "cells": [
  {
   "cell_type": "markdown",
   "id": "eb28f46a",
   "metadata": {},
   "source": [
    "# Simple DeGroot Social Learning Model"
   ]
  },
  {
   "cell_type": "code",
   "execution_count": 334,
   "id": "f13ed6d8",
   "metadata": {},
   "outputs": [],
   "source": [
    "import numpy as np\n",
    "import typing\n",
    "from sys import float_info  # default value for testing convergence\n",
    "from numpy.typing import ArrayLike\n",
    "from fractions import Fraction as fract  # format decimals as fractions"
   ]
  },
  {
   "cell_type": "markdown",
   "id": "5ddb9b4d",
   "metadata": {},
   "source": [
    "Take a society of \n",
    "$n$ agents where everybody has an opinion on a subject, represented by a vector of probabilities\n",
    "$$\n",
    "p(0) = (p_1(0), \\dots, p_n(0))\n",
    "$$\n",
    "\n",
    "Agents obtain no new information based on which they can update their opinions but they communicate with other agents. Links between agents (who knows whom) and the weight they put on each other's opinions is represented by a *trust matrix*\n",
    " $T$ where \n",
    "$ T_{ij} $ is the weight that agent \n",
    "$i$\n",
    "puts on agent \n",
    "$j$'s opinion. The trust matrix is thus in a one-to-one relationship with a weighted, directed graph where there is an edge between \n",
    "$i$ and \n",
    "$j$ iff $T_{ij} > 0$. \n",
    "\n",
    "The trust matrix is stochastic, its rows consists of nonnegative real numbers, with each row summing to 1.\n",
    "\n",
    "\n",
    "Source: https://en.wikipedia.org/wiki/DeGroot_learning"
   ]
  },
  {
   "cell_type": "markdown",
   "id": "fb9e78c4",
   "metadata": {},
   "source": [
    "We implement the mode, as a `DeGroot` simple class which takes as inputs:\n",
    "    - a *belief vector*, a `numpy` array of shape $N$ representing the initial state of the population's beliefs \n",
    "    - a *trust matrix*, i.e. the transition matrix as a `numpy` array of floats of shape $NxN$.\n",
    "    \n",
    "\n"
   ]
  },
  {
   "cell_type": "code",
   "execution_count": 341,
   "id": "dced9c27",
   "metadata": {},
   "outputs": [],
   "source": [
    "class DeGroot:\n",
    "    \"\"\"\n",
    "    A class implementing DeGroot social learning model\n",
    "\n",
    "    Args:\n",
    "        beliefs(numpy array): a vector representing the initial beliefs\n",
    "        of the population\n",
    "        trust_matrix(numpy array): the model's transitions matrix\n",
    "\n",
    "    Attributes:\n",
    "        beliefs(numpy array): The current state of the agents beliefs\n",
    "    \"\"\"\n",
    "\n",
    "    def __init__(self, beliefs: ArrayLike, trust_matrix: ArrayLike) -> None:\n",
    "        \"\"\"\n",
    "        Initializes object after checking that inputs are correct.\n",
    "        \"\"\"\n",
    "\n",
    "        if len(beliefs) != len(trust_matrix):\n",
    "            error_msg = f\"incompatible dimensions for beliefs vector and trust matrix.\\n Belief vector has shape: {beliefs.shape} and the trust matrix has shape {trust_matrix.shape}\"\n",
    "            raise ValueError(error_msg)\n",
    "        if trust_matrix.shape[0] != trust_matrix.shape[1]:\n",
    "            error_msg = f\"trust matrix must have shape: {len(beliefs)} x {len(beliefs)}.\\n Received shape {trust_matrix.shape}\"\n",
    "            raise ValueError(error_msg)\n",
    "        if np.any([0 >= belief >= 1 for belief in beliefs]):\n",
    "            error.msg = \"sum of beliefs vector is not equal to 1\"\n",
    "            raise ValueError(error_msg)\n",
    "        if np.any([sum(row) != 1 for row in trust_matrix]):\n",
    "            raise ValueError(\"all rows of the trust matrix should have a sum of 1\")\n",
    "\n",
    "        self.beliefs = beliefs\n",
    "        self._trust = trust_matrix\n",
    "\n",
    "    def __str__(self):\n",
    "        fracts = list(\n",
    "            map(lambda n: fract(n).limit_denominator(100), self.beliefs.T.tolist())\n",
    "        )\n",
    "        fracts = \"\\n\".join([f\"{n.denominator}/{n.numerator}\" for n in fracts])\n",
    "        return fracts\n",
    "\n",
    "    def _time_step(self) -> ArrayLike:\n",
    "        # updates the model\n",
    "        self.beliefs = self.beliefs @ self._trust\n",
    "        return self.beliefs\n",
    "\n",
    "    def iterate(\n",
    "        self, no_iters: int = 1000, tolerance_level: float = float_info.epsilon\n",
    "    ) -> (bool, list[ArrayLike]):\n",
    "        if no_iters < 1:\n",
    "            raise ValueError(\n",
    "                f\"number of iterations must be 1 or greater. Got {no_iters}\"\n",
    "            )\n",
    "        history = []\n",
    "        \n",
    "        for i in range(no_iters):\n",
    "            old_vector = self.beliefs\n",
    "            history.append(old_vector)\n",
    "            new_vector = self._time_step()\n",
    "            if np.all(abs(new_vector - old_vector) < tolerance_level):\n",
    "                print(f\"Convergence reached at the {i}th time_step\\n\")\n",
    "                return (True, history)\n",
    "        print(\"No Convergence\\n\")\n",
    "        return (False, history)"
   ]
  },
  {
   "cell_type": "code",
   "execution_count": 342,
   "id": "c5f410a8",
   "metadata": {},
   "outputs": [],
   "source": [
    "belief_vector = np.array([1, 0, 0])\n",
    "trust_matrix = np.array([[0, 0.5, 0.5], [1, 0, 0], [0, 1, 0]])\n",
    "\n",
    "jackson_example = DeGroot(belief_vector, trust_matrix)"
   ]
  },
  {
   "cell_type": "code",
   "execution_count": 340,
   "id": "f33b3595",
   "metadata": {},
   "outputs": [
    {
     "name": "stdout",
     "output_type": "stream",
     "text": [
      "Convergence reached at the 105th time_step\n",
      "\n",
      "5/2\n",
      "5/2\n",
      "5/1\n"
     ]
    }
   ],
   "source": [
    "jackson_example.iterate()\n",
    "print(jackson_example)"
   ]
  },
  {
   "cell_type": "code",
   "execution_count": null,
   "id": "b763fb95",
   "metadata": {},
   "outputs": [],
   "source": []
  },
  {
   "cell_type": "code",
   "execution_count": null,
   "id": "0ed628cb",
   "metadata": {},
   "outputs": [],
   "source": []
  }
 ],
 "metadata": {
  "kernelspec": {
   "display_name": "Python 3 (ipykernel)",
   "language": "python",
   "name": "python3"
  },
  "language_info": {
   "codemirror_mode": {
    "name": "ipython",
    "version": 3
   },
   "file_extension": ".py",
   "mimetype": "text/x-python",
   "name": "python",
   "nbconvert_exporter": "python",
   "pygments_lexer": "ipython3",
   "version": "3.9.13"
  }
 },
 "nbformat": 4,
 "nbformat_minor": 5
}
